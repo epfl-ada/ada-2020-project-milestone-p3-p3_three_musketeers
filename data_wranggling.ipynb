{
 "cells": [
  {
   "cell_type": "code",
   "execution_count": 1,
   "metadata": {},
   "outputs": [],
   "source": [
    "import pandas as pd\n",
    "import numpy as np"
   ]
  },
  {
   "cell_type": "code",
   "execution_count": 43,
   "metadata": {},
   "outputs": [
    {
     "name": "stderr",
     "output_type": "stream",
     "text": [
      "/home/nulpe/Anaconda3/envs/ada/lib/python3.8/site-packages/IPython/core/interactiveshell.py:3146: DtypeWarning: Columns (4) have mixed types.Specify dtype option on import or set low_memory=False.\n",
      "  has_raised = await self.run_ast_nodes(code_ast.body, cell_name,\n",
      "/home/nulpe/Anaconda3/envs/ada/lib/python3.8/site-packages/IPython/core/interactiveshell.py:3146: DtypeWarning: Columns (8) have mixed types.Specify dtype option on import or set low_memory=False.\n",
      "  has_raised = await self.run_ast_nodes(code_ast.body, cell_name,\n",
      "/home/nulpe/Anaconda3/envs/ada/lib/python3.8/site-packages/IPython/core/interactiveshell.py:3146: DtypeWarning: Columns (17,19,30,31,32) have mixed types.Specify dtype option on import or set low_memory=False.\n",
      "  has_raised = await self.run_ast_nodes(code_ast.body, cell_name,\n"
     ]
    }
   ],
   "source": [
    "df_la = pd.read_csv('data/states/ca_los_angeles_2020_04_01.csv.gz', compression='gzip')\n",
    "df_pa = pd.read_csv('data/states/pa_philadelphia_2020_04_01.csv.gz', compression='gzip')\n",
    "df_sa = pd.read_csv('data/states/tx_san_antonio_2020_04_01.csv.gz', compression='gzip')\n",
    "df_census = pd.read_csv('data/census-clean.csv.gz', compression='gzip')\n"
   ]
  },
  {
   "cell_type": "code",
   "execution_count": 44,
   "metadata": {},
   "outputs": [
    {
     "data": {
      "text/plain": [
       "\"df_la_day = df_la.groupby(['date', 'subject_race', 'subject_sex']).size().reset_index(name='counts')\\ndf_pa_day = df_pa.groupby(['date', 'subject_race', 'subject_sex']).size().reset_index(name='counts')\\ndf_sa_day = df_sa.groupby(['date', 'subject_race', 'subject_sex']).size().reset_index(name='counts')\\n\\nprint(df_pa)\\n\\ndf_census = df_census\\ndf_census_pa = df_census[df_census['state']=='Pennsylvania']\\n\\ndf_census_pa.head(20)\\n\""
      ]
     },
     "execution_count": 44,
     "metadata": {},
     "output_type": "execute_result"
    }
   ],
   "source": [
    "def select_time_frame(df, date):\n",
    "    df.date = pd.to_datetime(df.date)\n",
    "    df = df[df['date'] > pd.to_datetime(date)]\n",
    "    return df\n",
    "\n",
    "df_la = select_time_frame(df_la, '2017-01-01')\n",
    "df_pa = select_time_frame(df_pa, '2017-01-01')\n",
    "df_sa = select_time_frame(df_sa, '2017-01-01')\n",
    "\n",
    "df_la.to_csv('data/states/ca_los_angeles_2020_04_01.csv.gz', compression='gzip')\n",
    "df_pa.to_csv('data/states/pa_philadelphia_2020_04_01.csv.gz', compression='gzip')\n",
    "df_sa.to_csv('data/states/tx_san_antonio_2020_04_01.csv.gz', compression='gzip')\n",
    "\n",
    "\n",
    "\n",
    "'''df_la_day = df_la.groupby(['date', 'subject_race', 'subject_sex']).size().reset_index(name='counts')\n",
    "df_pa_day = df_pa.groupby(['date', 'subject_race', 'subject_sex']).size().reset_index(name='counts')\n",
    "df_sa_day = df_sa.groupby(['date', 'subject_race', 'subject_sex']).size().reset_index(name='counts')\n",
    "\n",
    "print(df_pa)\n",
    "\n",
    "df_census = df_census\n",
    "df_census_pa = df_census[df_census['state']=='Pennsylvania']\n",
    "\n",
    "df_census_pa.head(20)\n",
    "'''"
   ]
  },
  {
   "cell_type": "code",
   "execution_count": null,
   "metadata": {},
   "outputs": [],
   "source": [
    "\n"
   ]
  }
 ],
 "metadata": {
  "kernelspec": {
   "display_name": "Python 3",
   "language": "python",
   "name": "python3"
  },
  "language_info": {
   "codemirror_mode": {
    "name": "ipython",
    "version": 3
   },
   "file_extension": ".py",
   "mimetype": "text/x-python",
   "name": "python",
   "nbconvert_exporter": "python",
   "pygments_lexer": "ipython3",
   "version": "3.8.5"
  }
 },
 "nbformat": 4,
 "nbformat_minor": 4
}
